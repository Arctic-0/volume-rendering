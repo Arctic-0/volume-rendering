{
 "metadata": {
  "name": "",
  "signature": "sha256:a9e4a28543b1598eb48f04a0b6f4e863852a1719902199627de988be85aa09a6"
 },
 "nbformat": 3,
 "nbformat_minor": 0,
 "worksheets": [
  {
   "cells": [
    {
     "cell_type": "markdown",
     "metadata": {},
     "source": [
      "This notebook converts a 3D array into a 2D png suitable for loading as a texture into WebGL"
     ]
    },
    {
     "cell_type": "code",
     "collapsed": false,
     "input": [
      "import png\n",
      "import numpy as np"
     ],
     "language": "python",
     "metadata": {},
     "outputs": [],
     "prompt_number": 1
    },
    {
     "cell_type": "markdown",
     "metadata": {},
     "source": [
      "Make some syntheic 4 x 4 x 4 data to play with. Note that this is a useful shape as the dimension lengths of the 2D texture have to be square numbers."
     ]
    },
    {
     "cell_type": "markdown",
     "metadata": {},
     "source": [
      "We should also try and combine all of this into a generic function"
     ]
    },
    {
     "cell_type": "code",
     "collapsed": false,
     "input": [
      "\"\"\"\n",
      "This module converts 3D (x, y, z) numpy arrays of data tiles (x, y) of data\n",
      "in png files. These can then be read as WebGL textures.\n",
      "\n",
      "The z dimension is deconstructed and the component x, y data is tiled as follows:\n",
      "Columns, then rows, then channel (increasing through R, G, B, A). Note that\n",
      "the RGBA values are unrelated to colors or alpha, they are merely data\n",
      "channels.\n",
      "\n",
      "\"\"\"\n",
      "\n",
      "from __future__ import division\n",
      "import png\n",
      "\n",
      "def tile_array(a, maxx=256, maxy=256, maxz=3, padxy=True):\n",
      "    \"\"\"\n",
      "    Flattens an x,y,z 3D array into an array of x,y tiles\n",
      "    \n",
      "    Tiling order is column, followed by row, followed by channel\n",
      "    \n",
      "    Note that png textures coordinates increase top left to\n",
      "    bottom right so we also need to take this into account.\n",
      "    \n",
      "    Args:\n",
      "        * a (numpy array): a 3d numpy array of data\n",
      "        * max<xyz> (int): the limits of the image size in pixels.\n",
      "            NB that maxz is either 1 (Grayscale), 3 (RGB) or 4 (RGBA)\n",
      "        \n",
      "    This could be made more efficient using stride tricks\n",
      "    \n",
      "    \"\"\"\n",
      "    \n",
      "    if padxy:\n",
      "        padded_a = np.zeros([a.shape[0]+2, a.shape[1]+2, a.shape[2]])\n",
      "        padded_a[1:-1, 1:-1, :] = a\n",
      "    else:\n",
      "        padded_a = a\n",
      "\n",
      "    pngarray = np.zeros([maxx, maxy, maxz])\n",
      "    datax, datay, dataz = padded_a.shape\n",
      "    maxitiles = int(maxx/datax)\n",
      "    maxjtiles = int(maxy/datay)\n",
      "    tilesperlayer = maxitiles * maxjtiles\n",
      "    \n",
      "    for zslice in range(dataz):\n",
      "        ztile = np.floor(zslice/tilesperlayer)\n",
      "        ytile = np.floor((zslice - (ztile * tilesperlayer)) / maxitiles)\n",
      "        xtile = np.mod(zslice - (ztile * tilesperlayer), maxitiles)\n",
      "        \n",
      "        try:\n",
      "            pngarray[xtile*datax:(xtile+1)*datax,\n",
      "                     ytile*datay:(ytile+1)*datay,\n",
      "                     ztile] = padded_a[:, :, zslice]\n",
      "        except IndexError:\n",
      "            print \"Output array saturated at slice\", zslice\n",
      "            break\n",
      "            \n",
      "        \n",
      "    pngarray = pngarray.transpose([1, 0, 2]) # swap from row major to column (or vice versa, not sure which way round this is!)\n",
      "    \n",
      "    return pngarray[::-1, ...] # revese first axis to be compatible with textures\n",
      "\n",
      "    \n",
      "def write_png(array, savep, height=256, width=256):\n",
      "    \"\"\"\n",
      "    Writes a tiled array to a png image\n",
      "\n",
      "    args:\n",
      "        * array: x, y, rgba array\n",
      "        * savep: output file\n",
      "        * height/width: the height/width of the image.\n",
      "            Must be a square number for use with WebGL\n",
      "            textures. Need not be equal to each other.\n",
      "\n",
      "    \"\"\"\n",
      "    \n",
      "    if (height**0.5)%1 != 0.0 or (width**0.5)%1 != 0.0:\n",
      "        raise ValueError(\"Dimensions must be square numbers i.e. sqrt(n) must be an integer\")\n",
      "    \n",
      "    png_writer = png.Writer(height=height, width=width, bitdepth=8)\n",
      "    with open(savep, 'wb') as f:\n",
      "        flat_array = array.reshape(-1, width*3) #assuming RGB i.e. 3 channels\n",
      "        png_writer.write(f, flat_array)\n",
      "    \n",
      "\n",
      "def array_to_png(data, filename, height=256, width=256, padxy=True):\n",
      "    \"\"\" Converts a x,y,z 3D array to a tiled png image \"\"\"\n",
      "    tiled_array = tile_array(data, maxx=height, maxy=width, maxz=3, padxy=padxy)\n",
      "    write_png(tiled_array, filename, height, width)"
     ],
     "language": "python",
     "metadata": {},
     "outputs": [],
     "prompt_number": 2
    },
    {
     "cell_type": "code",
     "collapsed": false,
     "input": [
      "data = np.zeros([64, 64, 64])\n",
      "center = np.array([32, 32, 32])\n",
      "for ind in np.ndindex(data.shape):\n",
      "    d = ind - center\n",
      "    data[ind] = (np.sqrt(d[0]**2 + d[1]**2 + (d[2]/3)**2))    "
     ],
     "language": "python",
     "metadata": {},
     "outputs": [],
     "prompt_number": 3
    },
    {
     "cell_type": "code",
     "collapsed": false,
     "input": [
      "blob_data = 1000/(data+0.001)\n",
      "blob_data[blob_data > 200] = 255\n",
      "blob_data[blob_data < 150] = 0"
     ],
     "language": "python",
     "metadata": {},
     "outputs": [],
     "prompt_number": 4
    },
    {
     "cell_type": "code",
     "collapsed": false,
     "input": [
      "array_to_png(blob_data, \"test_blob_64_64_64_361_361.png\", width=361, height=361, padxy=False)"
     ],
     "language": "python",
     "metadata": {},
     "outputs": [],
     "prompt_number": 5
    },
    {
     "cell_type": "code",
     "collapsed": false,
     "input": [
      "import iris\n",
      "d = iris.load_cube(\"/Users/niall/Downloads/cloud_frac.nc\")[0]\n",
      "d.transpose([2,1,0])\n",
      "array_to_png(d.data*255, \"cloud_frac_623_812_70_4096_4096.png\", width=4096, height=4096)"
     ],
     "language": "python",
     "metadata": {},
     "outputs": [],
     "prompt_number": 3
    },
    {
     "cell_type": "code",
     "collapsed": false,
     "input": [
      "def sampleAs3DTexture(tex, pos, dataShape, texShape):\n",
      "    nTiles = np.array(texShape[:2]) / np.array(dataShape[:2])\n",
      "    tilesPerLayer = nTiles[0] * nTiles[1]\n",
      "\n",
      "    tileDim = np.array([1.0, 1.0]) / nTiles\n",
      "    thisTileN = np.floor((dataShape[2]-1.0) * pos[2])\n",
      "\n",
      "    zTile = np.floor(thisTileN/tilesPerLayer)\n",
      "    yTile = np.floor((thisTileN - (zTile * tilesPerLayer)) / nTiles[0])\n",
      "    xTile = np.mod((thisTileN - (zTile * tilesPerLayer)), nTiles[0])\n",
      "    thisTile = np.array([xTile, yTile, zTile])\n",
      "\n",
      "    thisPoint = (thisTile[:2]+pos[:2]) * tileDim\n",
      "    \n",
      "    if thisTile[2] == 0.0:\n",
      "        datum = tex[thisPoint[0]*texShape[0], thisPoint[1]*texShape[1], 0]\n",
      "    elif thisTile[2] == 1.0:\n",
      "        datum = tex[thisPoint[0]*texShape[0], thisPoint[1]*texShape[1], 1]\n",
      "    elif thisTile[2] == 2.0:\n",
      "        datum = tex[thisPoint[0]*texShape[0], thisPoint[1]*texShape[1], 2]\n",
      "    elif thisTile[2] == 3.0:\n",
      "        datum = tex[thisPoint[0]*texShape[0], thisPoint[1]*texShape[1], 3]\n",
      "    else:\n",
      "        datum = 9999.9999\n",
      "    \n",
      "\n",
      "    return datum"
     ],
     "language": "python",
     "metadata": {},
     "outputs": [],
     "prompt_number": 96
    },
    {
     "cell_type": "code",
     "collapsed": false,
     "input": [
      "tiled_array = tile_array(blob_data, maxx=361, maxy=361, maxz=3)"
     ],
     "language": "python",
     "metadata": {},
     "outputs": [],
     "prompt_number": 75
    },
    {
     "cell_type": "code",
     "collapsed": false,
     "input": [
      "write_png(tiled_array, \"test.png\", 361, 361)"
     ],
     "language": "python",
     "metadata": {},
     "outputs": [],
     "prompt_number": 79
    },
    {
     "cell_type": "code",
     "collapsed": false,
     "input": [
      "print tiled_array.max()"
     ],
     "language": "python",
     "metadata": {},
     "outputs": [
      {
       "output_type": "stream",
       "stream": "stdout",
       "text": [
        "200.0\n"
       ]
      }
     ],
     "prompt_number": 78
    },
    {
     "cell_type": "code",
     "collapsed": false,
     "input": [
      "pos = np.array([0.52, 0.52, 0.52])\n",
      "print sampleAs3DTexture(tiled_array, pos, cube_data.shape, tiled_array.shape[:2]) "
     ],
     "language": "python",
     "metadata": {},
     "outputs": [
      {
       "output_type": "stream",
       "stream": "stdout",
       "text": [
        "255.0\n"
       ]
      }
     ],
     "prompt_number": 99
    },
    {
     "cell_type": "code",
     "collapsed": false,
     "input": [],
     "language": "python",
     "metadata": {},
     "outputs": []
    }
   ],
   "metadata": {}
  }
 ]
}